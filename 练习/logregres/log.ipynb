{
 "cells": [
  {
   "cell_type": "markdown",
   "id": "0dec08de",
   "metadata": {},
   "source": [
    "# logRegres"
   ]
  },
  {
   "cell_type": "code",
   "execution_count": null,
   "id": "6cab4b45",
   "metadata": {},
   "outputs": [],
   "source": [
    "testSet.txt  每个样本两个特征 一共两个类别"
   ]
  },
  {
   "cell_type": "code",
   "execution_count": 53,
   "id": "91ed068b",
   "metadata": {},
   "outputs": [],
   "source": [
    "import numpy as np\n",
    "import matplotlib.pyplot as plt\n"
   ]
  },
  {
   "cell_type": "code",
   "execution_count": 22,
   "id": "44cbbfe2",
   "metadata": {},
   "outputs": [],
   "source": [
    "def loadDataSet():\n",
    "    dataMat=[];labelMat=[]\n",
    "    fr=open('testSet.txt')\n",
    "    for line in fr.readlines():\n",
    "        lineArr=line.strip().split()    #去除头，尾空格，按照空格分隔\n",
    "        dataMat.append([1.0,float(lineArr[0]),float(lineArr[1])])\n",
    "        labelMat.append(int(lineArr[2]))   #标签转化为int类型\n",
    "    return dataMat,labelMat"
   ]
  },
  {
   "cell_type": "code",
   "execution_count": 23,
   "id": "24a76567",
   "metadata": {},
   "outputs": [],
   "source": [
    "def sigmoid(inx):\n",
    "    return 1.0/(1+np.exp(-inx))"
   ]
  },
  {
   "cell_type": "code",
   "execution_count": 251,
   "id": "c068e980",
   "metadata": {},
   "outputs": [],
   "source": [
    "#梯度上升\n",
    "#这里对于构建的线性模型的体现就在于：dataMatin*weights\n",
    "#这里是就是相当于对每个样本的各个特征进行加权求和，然后得到每个样本的输出，然后将输出拿去求损失\n",
    "\n",
    "def gradAscent(dataMatin,classlabel):\n",
    "    dataMattrix=np.mat(dataMatin)   #转为矩阵数据类型  (100,3)\n",
    "    labelMat=np.mat(classlabel).transpose()      #(100,1)转为(1,100)\n",
    "    \n",
    "    m,n=np.shape(dataMattrix)  #获取形状\n",
    "    \n",
    "    lr=0.001   #学习率\n",
    "    \n",
    "    maxCycles=500\n",
    "    weights=np.mat(np.ones((n,1)))  #(3,1)\n",
    "    for k in range(maxCycles):    #进行500次迭代\n",
    "        y_h=sigmoid(dataMatin*weights)   #变为(m,1)的向量\n",
    "#         print(\"y_h shape\",np.shape(y_h))  \n",
    "        loss=labelMat-y_h    #求损失 (100,1)\n",
    "#         print(\"loss :\",loss[0])\n",
    "#         print(type(loss[0]))\n",
    "#         print(np.shape(loss))\n",
    "#         print(loss[0][0].shape)\n",
    "        #这里是对整个数据集求梯度\n",
    "        weights=weights+lr*dataMattrix.transpose()*loss     #梯度上升  得到(n,1)的列向量\n",
    "#         print(type(weights))\n",
    "#     print(\"weights shape:\",np.shape(weights))\n",
    "    return weights"
   ]
  },
  {
   "cell_type": "code",
   "execution_count": 176,
   "id": "15daad02",
   "metadata": {},
   "outputs": [],
   "source": [
    "dataArr,labelMat=loadDataSet()"
   ]
  },
  {
   "cell_type": "code",
   "execution_count": 252,
   "id": "fcbb958f",
   "metadata": {},
   "outputs": [],
   "source": [
    "weights=gradAscent(dataArr,labelMat)"
   ]
  },
  {
   "cell_type": "code",
   "execution_count": 260,
   "id": "3d87b924",
   "metadata": {},
   "outputs": [],
   "source": [
    "matrix_modle=type(weights)"
   ]
  },
  {
   "cell_type": "code",
   "execution_count": 266,
   "id": "7c99cc63",
   "metadata": {},
   "outputs": [],
   "source": [
    "def plotBestFit(dataMat,labelMat,weights):\n",
    "    dataArr = np.array(dataMat)\n",
    "#     print(\"w 矩阵 shape:\",weights.shape)\n",
    "#     weights=weights.getA()     #array需要注释\n",
    "#     print(\"w shape\",weights.shape)\n",
    "#     print(type(weights))\n",
    "    n = np.shape(dataArr)[0]   #样本数\n",
    "    xcord1 = []; ycord1 = []\n",
    "    xcord2 = []; ycord2 = []\n",
    "    for i in range(n):\n",
    "        if int(labelMat[i])== 1:   #‘1’类别的点\n",
    "            xcord1.append(dataArr[i,1]); ycord1.append(dataArr[i,2])\n",
    "        else:   #'0'类别的点\n",
    "            xcord2.append(dataArr[i,1]); ycord2.append(dataArr[i,2])\n",
    "    fig = plt.figure()\n",
    "    ax = fig.add_subplot(111)\n",
    "    ax.scatter(xcord1, ycord1, s=30, c='red', marker='s')\n",
    "    ax.scatter(xcord2, ycord2, s=30, c='green')\n",
    "    x = np.arange(-3.0, 3.0, 0.1)\n",
    "#     print(\"x shape\",x.shape)\n",
    "    y = (-weights[0]-weights[1]*x)/weights[2]\n",
    "#     print(\"y shape\",y.shape)\n",
    "    ax.plot(x, y)\n",
    "    plt.xlabel('X1'); plt.ylabel('X2');\n",
    "\n"
   ]
  },
  {
   "cell_type": "code",
   "execution_count": 264,
   "id": "3f58615f",
   "metadata": {},
   "outputs": [
    {
     "data": {
      "image/png": "[encoded data removed]",
      "text/plain": [
       "<Figure size 640x480 with 1 Axes>"
      ]
     },
     "metadata": {},
     "output_type": "display_data"
    }
   ],
   "source": [
    "plotBestFit(dataArr,labelMat,weights)"
   ]
  },
  {
   "cell_type": "code",
   "execution_count": null,
   "id": "6beea72e",
   "metadata": {},
   "outputs": [],
   "source": []
  },
  {
   "cell_type": "code",
   "execution_count": 177,
   "id": "5838980f",
   "metadata": {},
   "outputs": [
    {
     "data": {
      "text/plain": [
       "(3,)"
      ]
     },
     "execution_count": 177,
     "metadata": {},
     "output_type": "execute_result"
    }
   ],
   "source": [
    "np.shape(dataArr[0])"
   ]
  },
  {
   "cell_type": "code",
   "execution_count": 178,
   "id": "a7b9021e",
   "metadata": {},
   "outputs": [
    {
     "data": {
      "text/plain": [
       "list"
      ]
     },
     "execution_count": 178,
     "metadata": {},
     "output_type": "execute_result"
    }
   ],
   "source": [
    "type(dataArr)"
   ]
  },
  {
   "cell_type": "code",
   "execution_count": 215,
   "id": "4da742e9",
   "metadata": {},
   "outputs": [],
   "source": [
    "weights33=np.ones(3)   #(3,)\n"
   ]
  },
  {
   "cell_type": "code",
   "execution_count": 216,
   "id": "826fa953",
   "metadata": {},
   "outputs": [
    {
     "data": {
      "text/plain": [
       "array([1., 1., 1.])"
      ]
     },
     "execution_count": 216,
     "metadata": {},
     "output_type": "execute_result"
    }
   ],
   "source": [
    "weights33"
   ]
  },
  {
   "cell_type": "code",
   "execution_count": 245,
   "id": "464ac2c0",
   "metadata": {},
   "outputs": [
    {
     "data": {
      "text/plain": [
       "list"
      ]
     },
     "execution_count": 245,
     "metadata": {},
     "output_type": "execute_result"
    }
   ],
   "source": [
    "type(dataArr[0])"
   ]
  },
  {
   "cell_type": "code",
   "execution_count": 218,
   "id": "35d77546",
   "metadata": {},
   "outputs": [],
   "source": [
    "z=dataArr[0]*weights33"
   ]
  },
  {
   "cell_type": "code",
   "execution_count": 219,
   "id": "172ee81d",
   "metadata": {},
   "outputs": [
    {
     "data": {
      "text/plain": [
       "array([ 1.      , -0.017612, 14.053064])"
      ]
     },
     "execution_count": 219,
     "metadata": {},
     "output_type": "execute_result"
    }
   ],
   "source": [
    "z"
   ]
  },
  {
   "cell_type": "code",
   "execution_count": 220,
   "id": "45d790d8",
   "metadata": {},
   "outputs": [
    {
     "data": {
      "text/plain": [
       "(3,)"
      ]
     },
     "execution_count": 220,
     "metadata": {},
     "output_type": "execute_result"
    }
   ],
   "source": [
    "np.shape(z)"
   ]
  },
  {
   "cell_type": "code",
   "execution_count": 221,
   "id": "b04d03f4",
   "metadata": {},
   "outputs": [],
   "source": [
    "z=sum(z)"
   ]
  },
  {
   "cell_type": "code",
   "execution_count": 222,
   "id": "b9400a44",
   "metadata": {},
   "outputs": [
    {
     "data": {
      "text/plain": [
       "15.035452"
      ]
     },
     "execution_count": 222,
     "metadata": {},
     "output_type": "execute_result"
    }
   ],
   "source": [
    "z"
   ]
  },
  {
   "cell_type": "code",
   "execution_count": 191,
   "id": "72382a4f",
   "metadata": {},
   "outputs": [],
   "source": [
    "zz=labelMat[0]-z"
   ]
  },
  {
   "cell_type": "code",
   "execution_count": 192,
   "id": "e79e7c4c",
   "metadata": {},
   "outputs": [
    {
     "data": {
      "text/plain": [
       "-15.035452"
      ]
     },
     "execution_count": 192,
     "metadata": {},
     "output_type": "execute_result"
    }
   ],
   "source": [
    "zz"
   ]
  },
  {
   "cell_type": "code",
   "execution_count": 194,
   "id": "350a2d86",
   "metadata": {},
   "outputs": [
    {
     "data": {
      "text/plain": [
       "numpy.float64"
      ]
     },
     "execution_count": 194,
     "metadata": {},
     "output_type": "execute_result"
    }
   ],
   "source": [
    "type(zz)"
   ]
  },
  {
   "cell_type": "code",
   "execution_count": 195,
   "id": "0d4ff7fa",
   "metadata": {},
   "outputs": [
    {
     "data": {
      "text/plain": [
       "float"
      ]
     },
     "execution_count": 195,
     "metadata": {},
     "output_type": "execute_result"
    }
   ],
   "source": [
    "type(0.01)"
   ]
  },
  {
   "cell_type": "code",
   "execution_count": 196,
   "id": "06ed76a9",
   "metadata": {},
   "outputs": [],
   "source": [
    "lrr=0.01"
   ]
  },
  {
   "cell_type": "code",
   "execution_count": 240,
   "id": "a4fffd93",
   "metadata": {},
   "outputs": [
    {
     "data": {
      "text/plain": [
       "[1.0, -0.017612, 14.053064]"
      ]
     },
     "execution_count": 240,
     "metadata": {},
     "output_type": "execute_result"
    }
   ],
   "source": [
    "dataArr[0]"
   ]
  },
  {
   "cell_type": "code",
   "execution_count": 241,
   "id": "e77e37ba",
   "metadata": {},
   "outputs": [
    {
     "data": {
      "text/plain": [
       "array([ 1.      , -0.017612, 14.053064])"
      ]
     },
     "execution_count": 241,
     "metadata": {},
     "output_type": "execute_result"
    }
   ],
   "source": [
    "np.array(dataArr[0])"
   ]
  },
  {
   "cell_type": "code",
   "execution_count": 242,
   "id": "824f11af",
   "metadata": {},
   "outputs": [
    {
     "data": {
      "text/plain": [
       "-0.15035452"
      ]
     },
     "execution_count": 242,
     "metadata": {},
     "output_type": "execute_result"
    }
   ],
   "source": [
    "lrr*zz"
   ]
  },
  {
   "cell_type": "code",
   "execution_count": 244,
   "id": "dc9b5ac5",
   "metadata": {},
   "outputs": [
    {
     "data": {
      "text/plain": [
       "array([-0.15035452,  0.00264804, -2.11294169])"
      ]
     },
     "execution_count": 244,
     "metadata": {},
     "output_type": "execute_result"
    }
   ],
   "source": [
    "lrr*zz*np.array(dataArr[0])"
   ]
  },
  {
   "cell_type": "code",
   "execution_count": 223,
   "id": "9a964395",
   "metadata": {},
   "outputs": [
    {
     "data": {
      "text/plain": [
       "list"
      ]
     },
     "execution_count": 223,
     "metadata": {},
     "output_type": "execute_result"
    }
   ],
   "source": [
    "type(dataArr[0])"
   ]
  },
  {
   "cell_type": "code",
   "execution_count": 224,
   "id": "a4a88fc3",
   "metadata": {},
   "outputs": [
    {
     "data": {
      "text/plain": [
       "[1.0, -0.017612, 14.053064]"
      ]
     },
     "execution_count": 224,
     "metadata": {},
     "output_type": "execute_result"
    }
   ],
   "source": [
    "dataArr[0]"
   ]
  },
  {
   "cell_type": "code",
   "execution_count": null,
   "id": "1b512d06",
   "metadata": {},
   "outputs": [],
   "source": []
  },
  {
   "cell_type": "code",
   "execution_count": null,
   "id": "4350c84f",
   "metadata": {},
   "outputs": [],
   "source": []
  },
  {
   "cell_type": "code",
   "execution_count": 237,
   "id": "2a20a12d",
   "metadata": {},
   "outputs": [],
   "source": [
    "\n",
    "#随机梯度上升\n",
    "#随机体现在每次通过一个样本求得的损失来梯度和进行权重更新（伪随机）\n",
    "#这里的批量大小是1\n",
    "def stocGradAscent0(dataMat,labels):\n",
    "    m,n=np.shape(dataMat)    # m, 3\n",
    "    dataMat=np.array(dataMat)    #由list转换为array   逆天\n",
    "    lr=0.01\n",
    "    weights=np.ones(n)   #(3,)\n",
    "    for i in range(m):   #对每个样本\n",
    "        y_h=sigmoid(sum(dataMat[i]*weights))  #点积  对应元素相乘\n",
    "        loss=labels[i]-y_h   #(1,1)\n",
    "        weights=weights+lr*loss*dataMat[i]\n",
    "    return weights"
   ]
  },
  {
   "cell_type": "code",
   "execution_count": 238,
   "id": "f6bccd7f",
   "metadata": {},
   "outputs": [],
   "source": [
    "weights2=stocGradAscent0(dataArr,labelMat)"
   ]
  },
  {
   "cell_type": "code",
   "execution_count": 239,
   "id": "7efc271a",
   "metadata": {},
   "outputs": [
    {
     "data": {
      "text/plain": [
       "array([ 1.01702007,  0.85914348, -0.36579921])"
      ]
     },
     "execution_count": 239,
     "metadata": {},
     "output_type": "execute_result"
    }
   ],
   "source": [
    "weights2"
   ]
  },
  {
   "cell_type": "code",
   "execution_count": 256,
   "id": "71b2b962",
   "metadata": {},
   "outputs": [
    {
     "data": {
      "text/plain": [
       "numpy.matrix"
      ]
     },
     "execution_count": 256,
     "metadata": {},
     "output_type": "execute_result"
    }
   ],
   "source": [
    "type(weights)"
   ]
  },
  {
   "cell_type": "code",
   "execution_count": null,
   "id": "097b662a",
   "metadata": {},
   "outputs": [],
   "source": []
  },
  {
   "cell_type": "code",
   "execution_count": 267,
   "id": "24c1c1be",
   "metadata": {},
   "outputs": [
    {
     "data": {
      "image/png": "[encoded data removed]",
      "text/plain": [
       "<Figure size 640x480 with 1 Axes>"
      ]
     },
     "metadata": {},
     "output_type": "display_data"
    }
   ],
   "source": [
    "plotBestFit(dataArr,labelMat,weights2)"
   ]
  },
  {
   "cell_type": "code",
   "execution_count": null,
   "id": "2b823c22",
   "metadata": {},
   "outputs": [],
   "source": []
  }
 ],
 "metadata": {
  "kernelspec": {
   "display_name": "Python 3 (ipykernel)",
   "language": "python",
   "name": "python3"
  },
  "language_info": {
   "codemirror_mode": {
    "name": "ipython",
    "version": 3
   },
   "file_extension": ".py",
   "mimetype": "text/x-python",
   "name": "python",
   "nbconvert_exporter": "python",
   "pygments_lexer": "ipython3",
   "version": "3.8.13"
  }
 },
 "nbformat": 4,
 "nbformat_minor": 5
}
