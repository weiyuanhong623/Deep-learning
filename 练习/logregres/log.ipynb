{
 "cells": [
  {
   "cell_type": "markdown",
   "id": "0dec08de",
   "metadata": {},
   "source": [
    "# logRegres"
   ]
  },
  {
   "cell_type": "code",
   "execution_count": null,
   "id": "6cab4b45",
   "metadata": {},
   "outputs": [],
   "source": [
    "testSet.txt  每个样本两个特征 一共两个类别"
   ]
  },
  {
   "cell_type": "code",
   "execution_count": 1,
   "id": "91ed068b",
   "metadata": {},
   "outputs": [],
   "source": [
    "import numpy as np\n",
    "import matplotlib.pyplot as plt\n"
   ]
  },
  {
   "cell_type": "code",
   "execution_count": 2,
   "id": "44cbbfe2",
   "metadata": {},
   "outputs": [],
   "source": [
    "def loadDataSet():\n",
    "    dataMat=[];labelMat=[]\n",
    "    fr=open('testSet.txt')\n",
    "    for line in fr.readlines():\n",
    "        lineArr=line.strip().split()    #去除头，尾空格，按照空格分隔\n",
    "        dataMat.append([1.0,float(lineArr[0]),float(lineArr[1])])\n",
    "        labelMat.append(int(lineArr[2]))   #标签转化为int类型\n",
    "    return dataMat,labelMat"
   ]
  },
  {
   "cell_type": "code",
   "execution_count": 12,
   "id": "24a76567",
   "metadata": {},
   "outputs": [],
   "source": [
    "def sigmoid(inx):\n",
    "    if inx>0:\n",
    "        return 1.0/(1+np.exp(-inx))\n",
    "    \n",
    "    #RuntimeWarning: overflow encountered in exp return 1.0/(1+np.exp(-inx))\n",
    "    else:\n",
    "        return np.exp(inx)/(np.exp(inx)+1)"
   ]
  },
  {
   "cell_type": "code",
   "execution_count": 52,
   "id": "c068e980",
   "metadata": {},
   "outputs": [],
   "source": [
    "#梯度上升\n",
    "#这里对于构建的线性模型的体现就在于：dataMatin*weights\n",
    "#这里是就是相当于对每个样本的各个特征进行加权求和，然后得到每个样本的输出，然后将输出拿去求损失\n",
    "\n",
    "def gradAscent(dataMatin,classlabel):\n",
    "    dataMattrix=np.mat(dataMatin)   #转为矩阵数据类型  (100,3)\n",
    "    labelMat=np.mat(classlabel).transpose()      #(100,1)转为(1,100)\n",
    "    \n",
    "    m,n=np.shape(dataMattrix)  #获取形状\n",
    "    \n",
    "    lr=0.001   #学习率\n",
    "    \n",
    "    maxCycles=500\n",
    "    weights=np.mat(np.ones((n,1)))  #(3,1)\n",
    "    for k in range(maxCycles):    #进行500次迭代\n",
    "        y_h=sigmoid(dataMatin*weights)   #变为(m,1)的向量（该列上的每个元素都是加权求和得到的）\n",
    "#         print(\"y_h shape\",np.shape(y_h))  \n",
    "        loss=labelMat-y_h    #求损失 (100,1)\n",
    "#         print(\"loss :\",loss[0])\n",
    "#         print(type(loss[0]))\n",
    "#         print(np.shape(loss))\n",
    "#         print(loss[0][0].shape)\n",
    "        #这里是对整个数据集求梯度\n",
    "        weights=weights+lr*dataMattrix.transpose()*loss     #梯度上升  得到(n,1)的列向量\n",
    "#         print(type(weights))\n",
    "#     print(\"weights shape:\",np.shape(weights))\n",
    "    return weights"
   ]
  },
  {
   "cell_type": "code",
   "execution_count": 4,
   "id": "15daad02",
   "metadata": {},
   "outputs": [],
   "source": [
    "dataArr,labelMat=loadDataSet()"
   ]
  },
  {
   "cell_type": "code",
   "execution_count": 36,
   "id": "fcbb958f",
   "metadata": {},
   "outputs": [],
   "source": [
    "weights=gradAscent(dataArr,labelMat)"
   ]
  },
  {
   "cell_type": "code",
   "execution_count": 51,
   "id": "9b2f0cf7",
   "metadata": {},
   "outputs": [
    {
     "data": {
      "text/plain": [
       "matrix([[ 4.12414349],\n",
       "        [ 0.48007329],\n",
       "        [-0.6168482 ]])"
      ]
     },
     "execution_count": 51,
     "metadata": {},
     "output_type": "execute_result"
    }
   ],
   "source": [
    "weights"
   ]
  },
  {
   "cell_type": "code",
   "execution_count": 3,
   "id": "7c99cc63",
   "metadata": {},
   "outputs": [],
   "source": [
    "def plotBestFit(dataMat,labelMat,weights):\n",
    "    dataArr = np.array(dataMat)\n",
    "#     print(\"w 矩阵 shape:\",weights.shape)\n",
    "#     weights=weights.getA()     #array需要注释\n",
    "#     print(\"w shape\",weights.shape)\n",
    "#     print(type(weights))\n",
    "    n = np.shape(dataArr)[0]   #样本数\n",
    "    xcord1 = []; ycord1 = []\n",
    "    xcord2 = []; ycord2 = []\n",
    "    for i in range(n):\n",
    "        if int(labelMat[i])== 1:   #‘1’类别的点\n",
    "            xcord1.append(dataArr[i,1]); ycord1.append(dataArr[i,2])\n",
    "        else:   #'0'类别的点\n",
    "            xcord2.append(dataArr[i,1]); ycord2.append(dataArr[i,2])\n",
    "    fig = plt.figure()\n",
    "    ax = fig.add_subplot(111)\n",
    "    ax.scatter(xcord1, ycord1, s=30, c='red', marker='s')\n",
    "    ax.scatter(xcord2, ycord2, s=30, c='green')\n",
    "    x = np.arange(-3.0, 3.0, 0.1)\n",
    "#     print(\"x shape\",x.shape)\n",
    "    y = (-weights[0]-weights[1]*x)/weights[2]\n",
    "#     print(\"y shape\",y.shape)\n",
    "    ax.plot(x, y)\n",
    "    plt.xlabel('X1'); plt.ylabel('X2');\n",
    "\n"
   ]
  },
  {
   "cell_type": "code",
   "execution_count": 39,
   "id": "3f58615f",
   "metadata": {},
   "outputs": [
    {
     "data": {
      "image/png": "[encoded data removed]",
      "text/plain": [
       "<Figure size 640x480 with 1 Axes>"
      ]
     },
     "metadata": {},
     "output_type": "display_data"
    }
   ],
   "source": [
    "plotBestFit(dataArr,labelMat,weights)"
   ]
  },
  {
   "cell_type": "code",
   "execution_count": null,
   "id": "6beea72e",
   "metadata": {},
   "outputs": [],
   "source": []
  },
  {
   "cell_type": "code",
   "execution_count": null,
   "id": "1b512d06",
   "metadata": {},
   "outputs": [],
   "source": []
  },
  {
   "cell_type": "code",
   "execution_count": null,
   "id": "4350c84f",
   "metadata": {},
   "outputs": [],
   "source": []
  },
  {
   "cell_type": "code",
   "execution_count": 237,
   "id": "2a20a12d",
   "metadata": {},
   "outputs": [],
   "source": [
    "\n",
    "#随机梯度上升\n",
    "#随机体现在每次通过一个样本求得的损失来梯度和进行权重更新（伪随机）\n",
    "#这里的批量大小是1\n",
    "def stocGradAscent0(dataMat,labels):\n",
    "    m,n=np.shape(dataMat)    # m, 3\n",
    "    dataMat=np.array(dataMat)    #由list转换为array   逆天\n",
    "    lr=0.01\n",
    "    weights=np.ones(n)   #(3,)\n",
    "    for i in range(m):   #对每个样本\n",
    "        y_h=sigmoid(sum(dataMat[i]*weights))  #点积  对应元素相乘\n",
    "        loss=labels[i]-y_h   #(1,1)\n",
    "        weights=weights+lr*loss*dataMat[i]\n",
    "    return weights"
   ]
  },
  {
   "cell_type": "code",
   "execution_count": 238,
   "id": "f6bccd7f",
   "metadata": {},
   "outputs": [],
   "source": [
    "weights2=stocGradAscent0(dataArr,labelMat)"
   ]
  },
  {
   "cell_type": "code",
   "execution_count": 239,
   "id": "7efc271a",
   "metadata": {},
   "outputs": [
    {
     "data": {
      "text/plain": [
       "array([ 1.01702007,  0.85914348, -0.36579921])"
      ]
     },
     "execution_count": 239,
     "metadata": {},
     "output_type": "execute_result"
    }
   ],
   "source": [
    "weights2"
   ]
  },
  {
   "cell_type": "code",
   "execution_count": 256,
   "id": "71b2b962",
   "metadata": {},
   "outputs": [
    {
     "data": {
      "text/plain": [
       "numpy.matrix"
      ]
     },
     "execution_count": 256,
     "metadata": {},
     "output_type": "execute_result"
    }
   ],
   "source": [
    "type(weights)"
   ]
  },
  {
   "cell_type": "code",
   "execution_count": null,
   "id": "097b662a",
   "metadata": {},
   "outputs": [],
   "source": []
  },
  {
   "cell_type": "code",
   "execution_count": 267,
   "id": "24c1c1be",
   "metadata": {},
   "outputs": [
    {
     "data": {
      "image/png": "[encoded data removed]",
      "text/plain": [
       "<Figure size 640x480 with 1 Axes>"
      ]
     },
     "metadata": {},
     "output_type": "display_data"
    }
   ],
   "source": [
    "plotBestFit(dataArr,labelMat,weights2)"
   ]
  },
  {
   "cell_type": "code",
   "execution_count": 7,
   "id": "87a3ba69",
   "metadata": {},
   "outputs": [],
   "source": [
    "x=np.random.uniform(0,100)"
   ]
  },
  {
   "cell_type": "code",
   "execution_count": 8,
   "id": "1baaaae0",
   "metadata": {},
   "outputs": [
    {
     "data": {
      "text/plain": [
       "76.83788348649145"
      ]
     },
     "execution_count": 8,
     "metadata": {},
     "output_type": "execute_result"
    }
   ],
   "source": []
  },
  {
   "cell_type": "code",
   "execution_count": null,
   "id": "6ffcd25a",
   "metadata": {},
   "outputs": [],
   "source": []
  },
  {
   "cell_type": "code",
   "execution_count": 4,
   "id": "2b823c22",
   "metadata": {},
   "outputs": [],
   "source": [
    "#随机梯度\n",
    "#随机梯度有利于减少权重 迭代时周期性的波动，以及获得更快的收敛速度。\n",
    "def stocGradAscent1(dataMat,labels,numIter):\n",
    "    dataMat=np.array(dataMat)\n",
    "    m,n=np.shape(dataMat)\n",
    "    weights=np.ones(n)    \n",
    "   \n",
    "    for i in range(numIter):      #进行150次迭代  \n",
    "        dataIndex=list(range(m))  #对下标进行记录，保证每次\n",
    "        for j in range(m):       #对于每个样本，批量大小是1\n",
    "            lr=4/(1.0+i+j)+0.01     #更新lr\n",
    "            randIndex=int(np.random.uniform(0,len(dataIndex)))    #随机取0-100之间的数作为下标（即随机取一个样本）\n",
    "            y_h=sigmoid(sum(dataMat[randIndex]*weights))          #点积后求和\n",
    "            loss=labels[randIndex]-y_h\n",
    "            weights=weights+lr*loss*dataMat[randIndex]\n",
    "            del(dataIndex[randIndex])\n",
    "    return weights\n",
    "    \n"
   ]
  },
  {
   "cell_type": "code",
   "execution_count": 17,
   "id": "60f89d98",
   "metadata": {},
   "outputs": [],
   "source": [
    "weight3=stocGradAscent1(dataArr,labelMat,150)"
   ]
  },
  {
   "cell_type": "code",
   "execution_count": 18,
   "id": "0c60adf5",
   "metadata": {},
   "outputs": [
    {
     "data": {
      "text/plain": [
       "array([13.93055819,  0.81551331, -1.98682442])"
      ]
     },
     "execution_count": 18,
     "metadata": {},
     "output_type": "execute_result"
    }
   ],
   "source": [
    "weight3"
   ]
  },
  {
   "cell_type": "code",
   "execution_count": 21,
   "id": "e390600c",
   "metadata": {},
   "outputs": [
    {
     "data": {
      "image/png": "[encoded data removed]",
      "text/plain": [
       "<Figure size 640x480 with 1 Axes>"
      ]
     },
     "metadata": {},
     "output_type": "display_data"
    }
   ],
   "source": [
    "plotBestFit(dataArr,labelMat,weight3)"
   ]
  },
  {
   "cell_type": "code",
   "execution_count": 16,
   "id": "1c91a580",
   "metadata": {},
   "outputs": [],
   "source": [
    "#进行预测\n",
    "def classifyVector(inX,weights):\n",
    "    inX=np.array(inX)    \n",
    "    prob=sigmoid(sum(inX*weights))\n",
    "    if prob>0.5:\n",
    "        return 1.0\n",
    "    else:\n",
    "        return 0.0\n",
    "    \n",
    "#读取并处理数据集，并进行单次验证\n",
    "def colicTest():\n",
    "    frTrain=open('horseColicTraining.txt')\n",
    "    frTest=open('horseColicTest.txt')\n",
    "    \n",
    "    trainingSet=[]\n",
    "    trainingLabels=[]\n",
    "    \n",
    "    #逐行读取数据并进行特征和标签的分离\n",
    "    for line in frTrain.readlines():\n",
    "        currLine=line.strip().split('\\t')\n",
    "#         print(len(currLine))\n",
    "        lineArr=[]\n",
    "        \n",
    "        for i in range(21):\n",
    "            lineArr.append(float(currLine[i]))\n",
    "        \n",
    "        #获取数据集\n",
    "        trainingSet.append(lineArr)\n",
    "#         print(\"trainSet_shape:\",np.shape(trainingSet))\n",
    "        trainingLabels.append(float(currLine[21]))    #转为int类型\n",
    "    \n",
    "#     print(\"trainSet:\",trainingSet)\n",
    "#     print(\"trainlabels\",trainingLabels)\n",
    "    #迭代次数：500\n",
    "    trainWeights=stocGradAscent1(trainingSet,trainingLabels,500)\n",
    "    \n",
    "    print(\"weights shape:\",np.shape(trainWeights))\n",
    "    accCount=0\n",
    "    errCount=0\n",
    "    numTestvec=0.0   #float\n",
    "    \n",
    "    #测试集\n",
    "    for line in frTest.readlines():\n",
    "        numTestvec+=1.0\n",
    "        currLine=line.strip().split('\\t')\n",
    "        lineArr=[]\n",
    "        \n",
    "        for i in range(21):\n",
    "            lineArr.append(float(currLine[i]))\n",
    "        \n",
    "        if int(classifyVector(lineArr,trainWeights)==int(currLine[21])):\n",
    "            accCount+=1\n",
    "        if int(classifyVector(lineArr,trainWeights)!=int(currLine[21])):\n",
    "            errCount+=1\n",
    "    \n",
    "    accRate=(float(accCount)/numTestvec)\n",
    "    errRate=(float(errCount)/numTestvec)\n",
    "    \n",
    "    print(\"The test acc is :\",accRate)\n",
    "    print(\"The test err is :\",errRate)\n",
    "    return accRate,errRate\n",
    "    "
   ]
  },
  {
   "cell_type": "code",
   "execution_count": 7,
   "id": "9a5bbb15",
   "metadata": {},
   "outputs": [
    {
     "name": "stdout",
     "output_type": "stream",
     "text": [
      "weights shape: (21,)\n",
      "The test acc is : 0.6417910447761194\n"
     ]
    }
   ],
   "source": [
    "single_result=colicTest()"
   ]
  },
  {
   "cell_type": "code",
   "execution_count": 11,
   "id": "27e75d70",
   "metadata": {},
   "outputs": [
    {
     "name": "stderr",
     "output_type": "stream",
     "text": [
      "C:\\Users\\china\\AppData\\Local\\Temp\\ipykernel_24844\\251321274.py:3: RuntimeWarning: overflow encountered in exp\n",
      "  return 1.0/(1+np.exp(-inx))\n"
     ]
    },
    {
     "name": "stdout",
     "output_type": "stream",
     "text": [
      "weights shape: (21,)\n",
      "The test acc is : 0.6865671641791045\n"
     ]
    }
   ],
   "source": [
    "single_result_overflow=colicTest()"
   ]
  },
  {
   "cell_type": "code",
   "execution_count": 18,
   "id": "1085d403",
   "metadata": {},
   "outputs": [
    {
     "name": "stdout",
     "output_type": "stream",
     "text": [
      "weights shape: (21,)\n",
      "The test acc is : 0.6865671641791045\n",
      "The test err is : 0.31343283582089554\n"
     ]
    }
   ],
   "source": [
    "single_result_acc_err=colicTest()"
   ]
  },
  {
   "cell_type": "code",
   "execution_count": 54,
   "id": "7d7547af",
   "metadata": {},
   "outputs": [
    {
     "name": "stdout",
     "output_type": "stream",
     "text": [
      "<class 'int'>\n"
     ]
    }
   ],
   "source": [
    "print(type(single_result))"
   ]
  },
  {
   "cell_type": "code",
   "execution_count": 20,
   "id": "57248257",
   "metadata": {},
   "outputs": [],
   "source": [
    "def multiter():\n",
    "    numTests=10\n",
    "    accSum=0.0\n",
    "    errSum=0.0\n",
    "    \n",
    "    for k in range(numTests):\n",
    "        t1,t2=colicTest()\n",
    "        accSum+=t1\n",
    "        errSum+=t2\n",
    "    print(f\"after{numTests} iterations the average acc is:{accSum/float(numTests)}\")\n",
    "    print(f\"after{numTests} iterations the average err is:{errSum/float(numTests)}\")"
   ]
  },
  {
   "cell_type": "code",
   "execution_count": 56,
   "id": "3d33e6d5",
   "metadata": {},
   "outputs": [
    {
     "name": "stderr",
     "output_type": "stream",
     "text": [
      "C:\\Users\\china\\AppData\\Local\\Temp\\ipykernel_26548\\2301828707.py:3: RuntimeWarning: overflow encountered in exp\n",
      "  return 1.0/(1+np.exp(-inx))\n"
     ]
    },
    {
     "name": "stdout",
     "output_type": "stream",
     "text": [
      "weights shape: (21,)\n",
      "The test acc is : 0.5522388059701493\n",
      "weights shape: (21,)\n",
      "The test acc is : 0.6716417910447762\n",
      "weights shape: (21,)\n",
      "The test acc is : 0.5970149253731343\n",
      "weights shape: (21,)\n",
      "The test acc is : 0.582089552238806\n",
      "weights shape: (21,)\n",
      "The test acc is : 0.6716417910447762\n",
      "weights shape: (21,)\n",
      "The test acc is : 0.6119402985074627\n",
      "weights shape: (21,)\n",
      "The test acc is : 0.5671641791044776\n",
      "weights shape: (21,)\n",
      "The test acc is : 0.7014925373134329\n",
      "weights shape: (21,)\n",
      "The test acc is : 0.5223880597014925\n",
      "weights shape: (21,)\n",
      "The test acc is : 0.7313432835820896\n",
      "<class 'float'>\n",
      "6.208955223880596\n",
      "after10 iterations the average acc is:0.6208955223880597\n"
     ]
    }
   ],
   "source": [
    "#overflow\n",
    "multiter()"
   ]
  },
  {
   "cell_type": "code",
   "execution_count": 15,
   "id": "fdeb54b7",
   "metadata": {},
   "outputs": [
    {
     "name": "stdout",
     "output_type": "stream",
     "text": [
      "weights shape: (21,)\n",
      "The test acc is : 0.6417910447761194\n",
      "weights shape: (21,)\n",
      "The test acc is : 0.6119402985074627\n",
      "weights shape: (21,)\n",
      "The test acc is : 0.5522388059701493\n",
      "weights shape: (21,)\n",
      "The test acc is : 0.6417910447761194\n",
      "weights shape: (21,)\n",
      "The test acc is : 0.6417910447761194\n",
      "weights shape: (21,)\n",
      "The test acc is : 0.582089552238806\n",
      "weights shape: (21,)\n",
      "The test acc is : 0.7611940298507462\n",
      "weights shape: (21,)\n",
      "The test acc is : 0.7164179104477612\n",
      "weights shape: (21,)\n",
      "The test acc is : 0.6119402985074627\n",
      "weights shape: (21,)\n",
      "The test acc is : 0.5671641791044776\n",
      "<class 'float'>\n",
      "6.328358208955224\n",
      "after10 iterations the average acc is:0.6328358208955225\n"
     ]
    }
   ],
   "source": [
    "#no overflow\n",
    "multiter()"
   ]
  },
  {
   "cell_type": "code",
   "execution_count": 21,
   "id": "07a272ad",
   "metadata": {},
   "outputs": [
    {
     "name": "stdout",
     "output_type": "stream",
     "text": [
      "weights shape: (21,)\n",
      "The test acc is : 0.6716417910447762\n",
      "The test err is : 0.3283582089552239\n",
      "weights shape: (21,)\n",
      "The test acc is : 0.6865671641791045\n",
      "The test err is : 0.31343283582089554\n",
      "weights shape: (21,)\n",
      "The test acc is : 0.5970149253731343\n",
      "The test err is : 0.40298507462686567\n",
      "weights shape: (21,)\n",
      "The test acc is : 0.6119402985074627\n",
      "The test err is : 0.3880597014925373\n",
      "weights shape: (21,)\n",
      "The test acc is : 0.7014925373134329\n",
      "The test err is : 0.29850746268656714\n",
      "weights shape: (21,)\n",
      "The test acc is : 0.6865671641791045\n",
      "The test err is : 0.31343283582089554\n",
      "weights shape: (21,)\n",
      "The test acc is : 0.47761194029850745\n",
      "The test err is : 0.5223880597014925\n",
      "weights shape: (21,)\n",
      "The test acc is : 0.6716417910447762\n",
      "The test err is : 0.3283582089552239\n",
      "weights shape: (21,)\n",
      "The test acc is : 0.6119402985074627\n",
      "The test err is : 0.3880597014925373\n",
      "weights shape: (21,)\n",
      "The test acc is : 0.6268656716417911\n",
      "The test err is : 0.373134328358209\n",
      "after10 iterations the average acc is:0.6343283582089553\n",
      "after10 iterations the average err is:0.3656716417910447\n"
     ]
    }
   ],
   "source": [
    "multiter()"
   ]
  }
 ],
 "metadata": {
  "kernelspec": {
   "display_name": "Python 3 (ipykernel)",
   "language": "python",
   "name": "python3"
  },
  "language_info": {
   "codemirror_mode": {
    "name": "ipython",
    "version": 3
   },
   "file_extension": ".py",
   "mimetype": "text/x-python",
   "name": "python",
   "nbconvert_exporter": "python",
   "pygments_lexer": "ipython3",
   "version": "3.8.13"
  }
 },
 "nbformat": 4,
 "nbformat_minor": 5
}
